{
 "cells": [
  {
   "cell_type": "markdown",
   "id": "2db5f21b-3284-4562-bd69-90488b1a0563",
   "metadata": {},
   "source": [
    "# SVM"
   ]
  },
  {
   "cell_type": "markdown",
   "id": "6f10aeee-e112-4f99-8e16-1b0b7dc1afda",
   "metadata": {},
   "source": [
    "##### Importing Libraries"
   ]
  },
  {
   "cell_type": "code",
   "execution_count": 1,
   "id": "a26a4341-e929-4aa2-a6b5-1878058ada2d",
   "metadata": {},
   "outputs": [],
   "source": [
    "import numpy as np\n",
    "import pandas as pd\n",
    "import statsmodels.api as sm\n",
    "from sklearn.preprocessing import MinMaxScaler\n",
    "from sklearn.model_selection import train_test_split as tts\n",
    "from sklearn.metrics import accuracy_score, recall_score, precision_score\n",
    "from sklearn.utils import  shuffle"
   ]
  },
  {
   "cell_type": "markdown",
   "id": "be5a6528-e733-4a5a-84d6-7a0b67c6e33c",
   "metadata": {},
   "source": [
    "#### Model Training"
   ]
  },
  {
   "cell_type": "code",
   "execution_count": 3,
   "id": "97b7d759-e267-47a0-95c4-33d97a29edad",
   "metadata": {},
   "outputs": [],
   "source": [
    "def compute_cost(W,X,Y):\n",
    "    N=X.shape[0]\n",
    "    distances=1-Y*(np.dot(X,W))\n",
    "    distances[distances<0]=0 #setting distance less than 0 to 0\n",
    "    hinge_loss=regularization_strength*(np.sum(distances)/N)\n",
    "    #cost\n",
    "    cost=1/2*np.dot(W,W)+hinge_loss\n",
    "    return cost"
   ]
  },
  {
   "cell_type": "markdown",
   "id": "17097544-52d8-4480-98cc-dd93d2b0a3a8",
   "metadata": {},
   "source": [
    "#### Cost Gradient"
   ]
  },
  {
   "cell_type": "code",
   "execution_count": 4,
   "id": "808804eb-e43d-47d6-a03c-f2a1c958c1bc",
   "metadata": {},
   "outputs": [],
   "source": [
    "def calculate_cost_gradient(W, X_batch, Y_batch):\n",
    "    if type(Y_batch) == np.float64:\n",
    "        Y_batch = np.array([Y_batch])\n",
    "        X_batch = np.array([X_batch])  # gives multidimensional array\n",
    "    distance= 1-(Y_batch*np.dot(X_batch,W))\n",
    "    dw=np.zeros(len(W))\n",
    "    for ind,d in enumerate(distance):\n",
    "        if max(0,d)==0:\n",
    "            di=W\n",
    "        else:\n",
    "            di = W - (regularization_strength * Y_batch[ind] * X_batch[ind])\n",
    "        dw+=di\n",
    "        \n",
    "    dw=dw/len(Y_batch) #average\n",
    "    return dw"
   ]
  },
  {
   "cell_type": "markdown",
   "id": "c3f9234a-995c-4949-9856-400bcd81e7b3",
   "metadata": {},
   "source": [
    "#### Gradient Descent"
   ]
  },
  {
   "cell_type": "code",
   "execution_count": 5,
   "id": "40994257-e8c1-4d3c-8ac1-6fc71255dd3b",
   "metadata": {},
   "outputs": [],
   "source": [
    "def sgd(features,outputs):\n",
    "    max_epochs=5000\n",
    "    weights=np.zeros(features.shape[1])\n",
    "    nth=0\n",
    "    prev_cost=float(\"inf\")\n",
    "    cost_threshold=0.01 #if cost didnt reduce than this then gradients descent stops\n",
    "    # Stochastic Gradient Descent\n",
    "    for epoch in range(1,max_epochs):\n",
    "        # shuffle to prevent repeating update cycles\n",
    "        X, Y = shuffle(features, outputs)\n",
    "        for ind, x in enumerate(X):\n",
    "            ascent = calculate_cost_gradient(weights, x, Y[ind])\n",
    "            weights = weights - (learning_rate * ascent)\n",
    "\n",
    "        # convergence check on 2^nth epoch\n",
    "        if epoch == 2 ** nth or epoch == max_epochs - 1:\n",
    "            cost = compute_cost(weights, features, outputs)\n",
    "            print(\"Epoch is: {} and Cost is: {}\".format(epoch, cost))\n",
    "            # stoppage criterion\n",
    "            if abs(prev_cost - cost) < cost_threshold * prev_cost:\n",
    "                return weights\n",
    "            prev_cost = cost\n",
    "            nth += 1\n",
    "    return weights            "
   ]
  },
  {
   "cell_type": "code",
   "execution_count": 6,
   "id": "6d3d5bf5-3ab7-41c8-b134-305dd277f63f",
   "metadata": {},
   "outputs": [
    {
     "name": "stdout",
     "output_type": "stream",
     "text": [
      "applying feature engineering...\n",
      "splitting dataset into train and test sets...\n",
      "training started...\n",
      "Epoch is: 1 and Cost is: 5299.811766285014\n",
      "Epoch is: 2 and Cost is: 3432.5237285774215\n",
      "Epoch is: 4 and Cost is: 2575.9757246872255\n",
      "Epoch is: 8 and Cost is: 1878.0861436040977\n",
      "Epoch is: 16 and Cost is: 1517.605023904006\n",
      "Epoch is: 32 and Cost is: 1209.2819971388546\n",
      "Epoch is: 64 and Cost is: 960.1610719880528\n",
      "Epoch is: 128 and Cost is: 803.0949163360799\n",
      "Epoch is: 256 and Cost is: 701.2496681676216\n",
      "Epoch is: 512 and Cost is: 652.1509196853154\n",
      "Epoch is: 1024 and Cost is: 624.8175291207651\n",
      "Epoch is: 2048 and Cost is: 612.4443187133793\n",
      "Epoch is: 4096 and Cost is: 605.0865411077752\n",
      "Epoch is: 4999 and Cost is: 604.4464847297797\n",
      "training finished.\n",
      "weights are: [ 1.33861286  0.84401111  1.1356027   2.17092534 -1.23583805 -3.23432162\n",
      "  3.28187145  6.8282615  -0.44170528  0.11476862  5.67944927 -1.91044269\n",
      "  3.26544466  3.76707881  1.66022569 -2.43126177 -1.75177105  0.81739529\n",
      " -1.96816379 -1.85807654  2.70661512  5.32994559  1.04136622  3.08290494\n",
      "  2.22777123 -0.61515816  2.68345662  0.01633569  4.66854229  2.18470805\n",
      " -9.26777216]\n",
      "testing the model...\n",
      "accuracy on test dataset: 0.9736842105263158\n",
      "recall on test dataset: 0.9534883720930233\n",
      "precision on test dataset: 0.9534883720930233\n"
     ]
    }
   ],
   "source": [
    "def init():\n",
    "    # read data in pandas (pd) data frame\n",
    "    data = pd.read_csv('./data.csv')\n",
    "\n",
    "    # drop last column (extra column added by pd)\n",
    "    # and unnecessary first column (id)\n",
    "    data.drop(data.columns[[-1, 0]], axis=1, inplace=True)\n",
    "\n",
    "    print(\"applying feature engineering...\")\n",
    "#     # convert categorical labels to numbers\n",
    "    diag_map = {'M': 1.0, 'B': -1.0}\n",
    "    data['diagnosis'] = data['diagnosis'].map(diag_map)\n",
    "\n",
    "#     # put features & outputs in different data frames\n",
    "    Y = data.loc[:, 'diagnosis']\n",
    "    X = data.iloc[:, 1:]\n",
    "\n",
    "\n",
    "    # normalize data for better convergence and to prevent overflow\n",
    "    X_normalized = MinMaxScaler().fit_transform(X.values)\n",
    "    X = pd.DataFrame(X_normalized)\n",
    "\n",
    "    # insert 1 in every row for intercept b\n",
    "    X.insert(loc=len(X.columns), column='intercept', value=1)\n",
    "\n",
    "    # split data into train and test set\n",
    "    print(\"splitting dataset into train and test sets...\")\n",
    "    X_train, X_test, y_train, y_test = tts(X, Y, test_size=0.2, random_state=42)\n",
    "\n",
    "    # train the model\n",
    "    print(\"training started...\")\n",
    "    W = sgd(X_train.to_numpy(), y_train.to_numpy())\n",
    "    print(\"training finished.\")\n",
    "    print(\"weights are: {}\".format(W))\n",
    "\n",
    "    # testing the model\n",
    "    print(\"testing the model...\")\n",
    "    y_train_predicted = np.array([])\n",
    "    for i in range(X_train.shape[0]):\n",
    "        yp = np.sign(np.dot(X_train.to_numpy()[i], W))\n",
    "        y_train_predicted = np.append(y_train_predicted, yp)\n",
    "\n",
    "    y_test_predicted = np.array([])\n",
    "    for i in range(X_test.shape[0]):\n",
    "        yp = np.sign(np.dot(X_test.to_numpy()[i], W))\n",
    "        y_test_predicted = np.append(y_test_predicted, yp)\n",
    "\n",
    "    print(\"accuracy on test dataset: {}\".format(accuracy_score(y_test, y_test_predicted)))\n",
    "    print(\"recall on test dataset: {}\".format(recall_score(y_test, y_test_predicted)))\n",
    "    print(\"precision on test dataset: {}\".format(recall_score(y_test, y_test_predicted)))\n",
    "\n",
    "\n",
    "# set hyper-parameters and call init\n",
    "regularization_strength = 10000\n",
    "learning_rate = 0.000001\n",
    "init()"
   ]
  }
 ],
 "metadata": {
  "kernelspec": {
   "display_name": "Python 3 (ipykernel)",
   "language": "python",
   "name": "python3"
  },
  "language_info": {
   "codemirror_mode": {
    "name": "ipython",
    "version": 3
   },
   "file_extension": ".py",
   "mimetype": "text/x-python",
   "name": "python",
   "nbconvert_exporter": "python",
   "pygments_lexer": "ipython3",
   "version": "3.9.12"
  }
 },
 "nbformat": 4,
 "nbformat_minor": 5
}
