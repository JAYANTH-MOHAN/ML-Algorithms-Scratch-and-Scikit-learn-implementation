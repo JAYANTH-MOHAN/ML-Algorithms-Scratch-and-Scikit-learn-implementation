{
 "cells": [
  {
   "cell_type": "markdown",
   "metadata": {},
   "source": [
    "## Implementing a Regression Tree from Scratch\n"
   ]
  },
  {
   "cell_type": "code",
   "execution_count": 1,
   "metadata": {},
   "outputs": [],
   "source": [
    "import numpy as np\n",
    "import pandas as pd\n",
    "from sklearn.datasets import load_boston\n",
    "from sklearn.metrics import r2_score\n",
    "import matplotlib.pyplot as plt\n",
    "import seaborn as sns"
   ]
  },
  {
   "cell_type": "markdown",
   "metadata": {},
   "source": [
    "## Dataset \n",
    "\n",
    "First things first! Let us load Boston dataset and shuffle. We then split the data to training and test folds. We use pandas to access the features easily"
   ]
  },
  {
   "cell_type": "code",
   "execution_count": 2,
   "metadata": {},
   "outputs": [
    {
     "name": "stderr",
     "output_type": "stream",
     "text": [
      "d:\\SOFTWARES\\Anaconda\\lib\\site-packages\\sklearn\\utils\\deprecation.py:87: FutureWarning: Function load_boston is deprecated; `load_boston` is deprecated in 1.0 and will be removed in 1.2.\n",
      "\n",
      "    The Boston housing prices dataset has an ethical problem. You can refer to\n",
      "    the documentation of this function for further details.\n",
      "\n",
      "    The scikit-learn maintainers therefore strongly discourage the use of this\n",
      "    dataset unless the purpose of the code is to study and educate about\n",
      "    ethical issues in data science and machine learning.\n",
      "\n",
      "    In this special case, you can fetch the dataset from the original\n",
      "    source::\n",
      "\n",
      "        import pandas as pd\n",
      "        import numpy as np\n",
      "\n",
      "        data_url = \"http://lib.stat.cmu.edu/datasets/boston\"\n",
      "        raw_df = pd.read_csv(data_url, sep=\"\\s+\", skiprows=22, header=None)\n",
      "        data = np.hstack([raw_df.values[::2, :], raw_df.values[1::2, :2]])\n",
      "        target = raw_df.values[1::2, 2]\n",
      "\n",
      "    Alternative datasets include the California housing dataset (i.e.\n",
      "    :func:`~sklearn.datasets.fetch_california_housing`) and the Ames housing\n",
      "    dataset. You can load the datasets as follows::\n",
      "\n",
      "        from sklearn.datasets import fetch_california_housing\n",
      "        housing = fetch_california_housing()\n",
      "\n",
      "    for the California housing dataset and::\n",
      "\n",
      "        from sklearn.datasets import fetch_openml\n",
      "        housing = fetch_openml(name=\"house_prices\", as_frame=True)\n",
      "\n",
      "    for the Ames housing dataset.\n",
      "  warnings.warn(msg, category=FutureWarning)\n"
     ]
    },
    {
     "data": {
      "text/html": [
       "<div>\n",
       "<style scoped>\n",
       "    .dataframe tbody tr th:only-of-type {\n",
       "        vertical-align: middle;\n",
       "    }\n",
       "\n",
       "    .dataframe tbody tr th {\n",
       "        vertical-align: top;\n",
       "    }\n",
       "\n",
       "    .dataframe thead th {\n",
       "        text-align: right;\n",
       "    }\n",
       "</style>\n",
       "<table border=\"1\" class=\"dataframe\">\n",
       "  <thead>\n",
       "    <tr style=\"text-align: right;\">\n",
       "      <th></th>\n",
       "      <th>CRIM</th>\n",
       "      <th>ZN</th>\n",
       "      <th>INDUS</th>\n",
       "      <th>CHAS</th>\n",
       "      <th>NOX</th>\n",
       "      <th>RM</th>\n",
       "      <th>AGE</th>\n",
       "      <th>DIS</th>\n",
       "      <th>RAD</th>\n",
       "      <th>TAX</th>\n",
       "      <th>PTRATIO</th>\n",
       "      <th>B</th>\n",
       "      <th>LSTAT</th>\n",
       "    </tr>\n",
       "  </thead>\n",
       "  <tbody>\n",
       "    <tr>\n",
       "      <th>0</th>\n",
       "      <td>0.04932</td>\n",
       "      <td>33.0</td>\n",
       "      <td>2.18</td>\n",
       "      <td>0.0</td>\n",
       "      <td>0.472</td>\n",
       "      <td>6.849</td>\n",
       "      <td>70.3</td>\n",
       "      <td>3.1827</td>\n",
       "      <td>7.0</td>\n",
       "      <td>222.0</td>\n",
       "      <td>18.4</td>\n",
       "      <td>396.90</td>\n",
       "      <td>7.53</td>\n",
       "    </tr>\n",
       "    <tr>\n",
       "      <th>1</th>\n",
       "      <td>0.02543</td>\n",
       "      <td>55.0</td>\n",
       "      <td>3.78</td>\n",
       "      <td>0.0</td>\n",
       "      <td>0.484</td>\n",
       "      <td>6.696</td>\n",
       "      <td>56.4</td>\n",
       "      <td>5.7321</td>\n",
       "      <td>5.0</td>\n",
       "      <td>370.0</td>\n",
       "      <td>17.6</td>\n",
       "      <td>396.90</td>\n",
       "      <td>7.18</td>\n",
       "    </tr>\n",
       "    <tr>\n",
       "      <th>2</th>\n",
       "      <td>0.22927</td>\n",
       "      <td>0.0</td>\n",
       "      <td>6.91</td>\n",
       "      <td>0.0</td>\n",
       "      <td>0.448</td>\n",
       "      <td>6.030</td>\n",
       "      <td>85.5</td>\n",
       "      <td>5.6894</td>\n",
       "      <td>3.0</td>\n",
       "      <td>233.0</td>\n",
       "      <td>17.9</td>\n",
       "      <td>392.74</td>\n",
       "      <td>18.80</td>\n",
       "    </tr>\n",
       "    <tr>\n",
       "      <th>3</th>\n",
       "      <td>0.05789</td>\n",
       "      <td>12.5</td>\n",
       "      <td>6.07</td>\n",
       "      <td>0.0</td>\n",
       "      <td>0.409</td>\n",
       "      <td>5.878</td>\n",
       "      <td>21.4</td>\n",
       "      <td>6.4980</td>\n",
       "      <td>4.0</td>\n",
       "      <td>345.0</td>\n",
       "      <td>18.9</td>\n",
       "      <td>396.21</td>\n",
       "      <td>8.10</td>\n",
       "    </tr>\n",
       "    <tr>\n",
       "      <th>4</th>\n",
       "      <td>3.67822</td>\n",
       "      <td>0.0</td>\n",
       "      <td>18.10</td>\n",
       "      <td>0.0</td>\n",
       "      <td>0.770</td>\n",
       "      <td>5.362</td>\n",
       "      <td>96.2</td>\n",
       "      <td>2.1036</td>\n",
       "      <td>24.0</td>\n",
       "      <td>666.0</td>\n",
       "      <td>20.2</td>\n",
       "      <td>380.79</td>\n",
       "      <td>10.19</td>\n",
       "    </tr>\n",
       "  </tbody>\n",
       "</table>\n",
       "</div>"
      ],
      "text/plain": [
       "      CRIM    ZN  INDUS  CHAS    NOX     RM   AGE     DIS   RAD    TAX  \\\n",
       "0  0.04932  33.0   2.18   0.0  0.472  6.849  70.3  3.1827   7.0  222.0   \n",
       "1  0.02543  55.0   3.78   0.0  0.484  6.696  56.4  5.7321   5.0  370.0   \n",
       "2  0.22927   0.0   6.91   0.0  0.448  6.030  85.5  5.6894   3.0  233.0   \n",
       "3  0.05789  12.5   6.07   0.0  0.409  5.878  21.4  6.4980   4.0  345.0   \n",
       "4  3.67822   0.0  18.10   0.0  0.770  5.362  96.2  2.1036  24.0  666.0   \n",
       "\n",
       "   PTRATIO       B  LSTAT  \n",
       "0     18.4  396.90   7.53  \n",
       "1     17.6  396.90   7.18  \n",
       "2     17.9  392.74  18.80  \n",
       "3     18.9  396.21   8.10  \n",
       "4     20.2  380.79  10.19  "
      ]
     },
     "execution_count": 2,
     "metadata": {},
     "output_type": "execute_result"
    }
   ],
   "source": [
    "def prepare_dataset():\n",
    "    boston = load_boston()\n",
    "    X_y = np.column_stack([boston['data'], boston['target']])\n",
    "    np.random.seed(1)\n",
    "    np.random.shuffle(X_y)\n",
    "    X, y = X_y[:,:-1], X_y[:,-1]\n",
    "    X_train, y_train, X_test, y_test = X[:400], y[:400], X[400:], y[400:]\n",
    "    X_train = pd.DataFrame(X_train, columns=boston['feature_names'])\n",
    "    X_test = pd.DataFrame(X_test, columns=boston['feature_names'])\n",
    "    y_train = pd.Series(y_train, name='House Price')\n",
    "    y_test = pd.Series(y_test, name='House Price')\n",
    "    return X_train, y_train, X_test, y_test\n",
    "\n",
    "X_train, y_train, X_test, y_test = prepare_dataset()\n",
    "X_train.head()"
   ]
  },
  {
   "cell_type": "markdown",
   "metadata": {},
   "source": [
    "## Regression Tree"
   ]
  },
  {
   "cell_type": "markdown",
   "metadata": {},
   "source": [
    "### Splitting Criteria: RSS"
   ]
  },
  {
   "cell_type": "markdown",
   "metadata": {},
   "source": [
    "Let us now build the regression tree. We start by implementing the splitting criteria which is used to decide the most discriminative features at each step. We use $RSS$ which is computed as follows:\n",
    "\n",
    "$$RSS =\\sum_{\\text {left }}\\left(y_{i}-\\hat{y_{L}}\\right)^{2}+\\sum_{\\text {right }}\\left(y_{i}-\\hat{y_{R}}\\right)^{2}$$\n",
    "\n",
    "where $\\hat{y_L} and \\hat{y_r}$ are mean y-value of left and right nodes."
   ]
  },
  {
   "cell_type": "code",
   "execution_count": 3,
   "metadata": {},
   "outputs": [],
   "source": [
    "def rss(y_left, y_right):\n",
    "    def squared_residual_sum(y):\n",
    "        return np.sum((y - np.mean(y)) ** 2)\n",
    "    \n",
    "    return squared_residual_sum(y_left) + squared_residual_sum(y_right) "
   ]
  },
  {
   "cell_type": "markdown",
   "metadata": {},
   "source": [
    "We now plot RSS of two features with respect to each possible threshold. We choose continous features with the strongest correlation (LSTAT) and weakest correlation (DIS).\n",
    "\n",
    "We observe that LSTAT can create much better splits than DIS, given its much lower RSS. We also observe parabola-like shapes for both features, indicating that both features have meaningful split points."
   ]
  },
  {
   "cell_type": "code",
   "execution_count": 4,
   "metadata": {},
   "outputs": [],
   "source": [
    "def compute_rss_by_threshold(feature):\n",
    "    features_rss = []\n",
    "    thresholds = X_train[feature].unique().tolist()\n",
    "    thresholds.sort()\n",
    "    thresholds = thresholds[1:]\n",
    "    for t in thresholds:\n",
    "        y_left_ix = X_train[feature] < t\n",
    "        y_left, y_right = y_train[y_left_ix], y_train[~y_left_ix]\n",
    "        features_rss.append(rss(y_left, y_right))\n",
    "    return thresholds, features_rss"
   ]
  },
  {
   "cell_type": "code",
   "execution_count": 5,
   "metadata": {},
   "outputs": [
    {
     "data": {
      "image/png": "[encoded data removed]",
      "text/plain": [
       "<Figure size 864x360 with 2 Axes>"
      ]
     },
     "metadata": {
      "needs_background": "light"
     },
     "output_type": "display_data"
    }
   ],
   "source": [
    "lstat_thresholds, lstat_rss = compute_rss_by_threshold('LSTAT')\n",
    "dis_thresholds, dis_rss = compute_rss_by_threshold('DIS')\n",
    "\n",
    "plt.figure(figsize=(12, 5))\n",
    "plt.subplot(1, 2, 1)\n",
    "plt.xlabel('Thresholds')\n",
    "plt.ylabel('RSS')\n",
    "plt.title('LSTAT (Strongest Correlation with House Price)')\n",
    "plt.plot(lstat_thresholds, lstat_rss)\n",
    "\n",
    "plt.subplot(1, 2, 2)\n",
    "plt.xlabel('Thresholds')\n",
    "plt.ylabel('RSS')\n",
    "plt.title('DIS (Weakest Correlation with House Price)')\n",
    "plt.plot(dis_thresholds, dis_rss)\n",
    "\n",
    "plt.tight_layout()\n",
    "plt.show()"
   ]
  },
  {
   "cell_type": "markdown",
   "metadata": {},
   "source": [
    "### Splitting"
   ]
  },
  {
   "cell_type": "markdown",
   "metadata": {},
   "source": [
    "We now implement the recursive splitting procedure as a function. We greedily find the best rules and split the data accordingly. We store the rules in a dictionary. Last, we use a helper function to find the best rule during each split.\n",
    "\n",
    "We call the function to create a tree with depth 3 and visualize the result."
   ]
  },
  {
   "cell_type": "code",
   "execution_count": 6,
   "metadata": {},
   "outputs": [],
   "source": [
    "def find_best_rule(X_train, y_train):\n",
    "    best_feature, best_threshold, min_rss = None, None, np.inf\n",
    "    for feature in X_train.columns:\n",
    "        thresholds = X_train[feature].unique().tolist()\n",
    "        thresholds.sort()\n",
    "        thresholds = thresholds[1:]\n",
    "        for t in thresholds:\n",
    "            y_left_ix = X_train[feature] < t\n",
    "            y_left, y_right = y_train[y_left_ix], y_train[~y_left_ix]\n",
    "            t_rss = rss(y_left, y_right)\n",
    "            if t_rss < min_rss:\n",
    "                min_rss = t_rss\n",
    "                best_threshold = t\n",
    "                best_feature = feature\n",
    "    \n",
    "    return {'feature': best_feature, 'threshold': best_threshold}"
   ]
  },
  {
   "cell_type": "code",
   "execution_count": 7,
   "metadata": {},
   "outputs": [],
   "source": [
    "def split(X_train, y_train, depth, max_depth):\n",
    "    if depth == max_depth or len(X_train) < 2:\n",
    "        return {'prediction': np.mean(y_train)}\n",
    "    \n",
    "    rule = find_best_rule(X_train, y_train)\n",
    "    left_ix = X_train[rule['feature']] < rule['threshold']\n",
    "    rule['left'] = split(X_train[left_ix], y_train[left_ix], depth + 1, max_depth)\n",
    "    rule['right'] = split(X_train[~left_ix], y_train[~left_ix], depth + 1, max_depth)\n",
    "    return rule\n",
    "\n",
    "rules = split(X_train, y_train, 0, 3)"
   ]
  },
  {
   "cell_type": "markdown",
   "metadata": {},
   "source": [
    "Now let us finish the regression tree by implementing the prediction function. We apply the rules in the rule tree until we arrive at a leaf"
   ]
  },
  {
   "cell_type": "code",
   "execution_count": 8,
   "metadata": {},
   "outputs": [],
   "source": [
    "def predict(sample, rules):\n",
    "    prediction = None\n",
    "    while prediction is None:\n",
    "        feature, threshold = rules['feature'], rules['threshold']\n",
    "        if sample[feature] < threshold:\n",
    "            rules = rules['left']\n",
    "        else:\n",
    "            rules = rules['right']\n",
    "        prediction = rules.get('prediction', None)\n",
    "    return prediction"
   ]
  },
  {
   "cell_type": "markdown",
   "metadata": {},
   "source": [
    "## Evaluation\n",
    "\n",
    "We evaluate the regression tree by creating trees at different depths and measuring the $R^2$ on the test set"
   ]
  },
  {
   "cell_type": "code",
   "execution_count": 9,
   "metadata": {},
   "outputs": [],
   "source": [
    "def evaluate(X, y):\n",
    "    preds = X.apply(predict, axis='columns', rules=rules.copy())\n",
    "    return r2_score(preds, y)"
   ]
  },
  {
   "cell_type": "code",
   "execution_count": 10,
   "metadata": {},
   "outputs": [
    {
     "name": "stderr",
     "output_type": "stream",
     "text": [
      "d:\\SOFTWARES\\Anaconda\\lib\\site-packages\\sklearn\\utils\\deprecation.py:87: FutureWarning: Function load_boston is deprecated; `load_boston` is deprecated in 1.0 and will be removed in 1.2.\n",
      "\n",
      "    The Boston housing prices dataset has an ethical problem. You can refer to\n",
      "    the documentation of this function for further details.\n",
      "\n",
      "    The scikit-learn maintainers therefore strongly discourage the use of this\n",
      "    dataset unless the purpose of the code is to study and educate about\n",
      "    ethical issues in data science and machine learning.\n",
      "\n",
      "    In this special case, you can fetch the dataset from the original\n",
      "    source::\n",
      "\n",
      "        import pandas as pd\n",
      "        import numpy as np\n",
      "\n",
      "        data_url = \"http://lib.stat.cmu.edu/datasets/boston\"\n",
      "        raw_df = pd.read_csv(data_url, sep=\"\\s+\", skiprows=22, header=None)\n",
      "        data = np.hstack([raw_df.values[::2, :], raw_df.values[1::2, :2]])\n",
      "        target = raw_df.values[1::2, 2]\n",
      "\n",
      "    Alternative datasets include the California housing dataset (i.e.\n",
      "    :func:`~sklearn.datasets.fetch_california_housing`) and the Ames housing\n",
      "    dataset. You can load the datasets as follows::\n",
      "\n",
      "        from sklearn.datasets import fetch_california_housing\n",
      "        housing = fetch_california_housing()\n",
      "\n",
      "    for the California housing dataset and::\n",
      "\n",
      "        from sklearn.datasets import fetch_openml\n",
      "        housing = fetch_openml(name=\"house_prices\", as_frame=True)\n",
      "\n",
      "    for the Ames housing dataset.\n",
      "  warnings.warn(msg, category=FutureWarning)\n"
     ]
    },
    {
     "name": "stdout",
     "output_type": "stream",
     "text": [
      "Max Depth 3 Training R2: 0.7708091374308115 Test R2: 0.7196592096391115\n",
      "Max Depth 4 Training R2: 0.8627064343049947 Test R2: 0.8692394590216349\n",
      "Max Depth 5 Training R2: 0.9103985407014502 Test R2: 0.8483933516884553\n",
      "Max Depth 6 Training R2: 0.9386306329825314 Test R2: 0.8610730600853665\n",
      "Max Depth 7 Training R2: 0.9567008693137388 Test R2: 0.8766769478534068\n",
      "Max Depth 8 Training R2: 0.9711559479122112 Test R2: 0.8657586402255723\n",
      "Max Depth 9 Training R2: 0.9795840439772386 Test R2: 0.8653608796726965\n",
      "Max Depth 10 Training R2: 0.9852945061378401 Test R2: 0.864643126910721\n"
     ]
    }
   ],
   "source": [
    "X_train, y_train, X_test, y_test = prepare_dataset()\n",
    "for max_depth in range(3, 11):\n",
    "    rules = split(X_train, y_train, 0, max_depth)\n",
    "    train_r2 = evaluate(X_train, y_train)\n",
    "    test_r2 = evaluate(X_test, y_test)\n",
    "    print('Max Depth', max_depth, 'Training R2:', train_r2, 'Test R2:',test_r2)"
   ]
  },
  {
   "cell_type": "code",
   "execution_count": null,
   "metadata": {},
   "outputs": [],
   "source": []
  }
 ],
 "metadata": {
  "kernelspec": {
   "display_name": "Python 3.9.12 ('base')",
   "language": "python",
   "name": "python3"
  },
  "language_info": {
   "codemirror_mode": {
    "name": "ipython",
    "version": 3
   },
   "file_extension": ".py",
   "mimetype": "text/x-python",
   "name": "python",
   "nbconvert_exporter": "python",
   "pygments_lexer": "ipython3",
   "version": "3.9.12"
  },
  "vscode": {
   "interpreter": {
    "hash": "4aff0f72f2aeaec93dbc81a814974fced90e0f9a9f249b47f10b6101dd83f9d4"
   }
  }
 },
 "nbformat": 4,
 "nbformat_minor": 4
}
