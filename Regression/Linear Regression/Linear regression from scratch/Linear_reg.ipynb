{
 "cells": [
  {
   "cell_type": "code",
   "execution_count": 227,
   "id": "36fd2867-95fd-4767-a7f4-ebdc811750f8",
   "metadata": {},
   "outputs": [],
   "source": [
    "import numpy as np \n",
    "import pandas as pd\n",
    "import matplotlib.pyplot as plt"
   ]
  },
  {
   "cell_type": "code",
   "execution_count": 363,
   "id": "72b086eb-9ec2-43ef-8b41-bd1317c362d0",
   "metadata": {},
   "outputs": [],
   "source": [
    "data = np.loadtxt(\"data.txt\", delimiter = \",\")"
   ]
  },
  {
   "cell_type": "code",
   "execution_count": 381,
   "id": "48bb96b6-9385-4250-8f9e-cc6ae582e5ca",
   "metadata": {},
   "outputs": [
    {
     "data": {
      "text/html": [
       "<div>\n",
       "<style scoped>\n",
       "    .dataframe tbody tr th:only-of-type {\n",
       "        vertical-align: middle;\n",
       "    }\n",
       "\n",
       "    .dataframe tbody tr th {\n",
       "        vertical-align: top;\n",
       "    }\n",
       "\n",
       "    .dataframe thead th {\n",
       "        text-align: right;\n",
       "    }\n",
       "</style>\n",
       "<table border=\"1\" class=\"dataframe\">\n",
       "  <thead>\n",
       "    <tr style=\"text-align: right;\">\n",
       "      <th></th>\n",
       "      <th>0</th>\n",
       "      <th>1</th>\n",
       "    </tr>\n",
       "  </thead>\n",
       "  <tbody>\n",
       "    <tr>\n",
       "      <th>0</th>\n",
       "      <td>1.0</td>\n",
       "      <td>1500.0</td>\n",
       "    </tr>\n",
       "    <tr>\n",
       "      <th>1</th>\n",
       "      <td>1.0</td>\n",
       "      <td>1700.0</td>\n",
       "    </tr>\n",
       "    <tr>\n",
       "      <th>2</th>\n",
       "      <td>1.0</td>\n",
       "      <td>1750.0</td>\n",
       "    </tr>\n",
       "    <tr>\n",
       "      <th>3</th>\n",
       "      <td>1.0</td>\n",
       "      <td>1800.0</td>\n",
       "    </tr>\n",
       "    <tr>\n",
       "      <th>4</th>\n",
       "      <td>1.0</td>\n",
       "      <td>1820.0</td>\n",
       "    </tr>\n",
       "  </tbody>\n",
       "</table>\n",
       "</div>"
      ],
      "text/plain": [
       "     0       1\n",
       "0  1.0  1500.0\n",
       "1  1.0  1700.0\n",
       "2  1.0  1750.0\n",
       "3  1.0  1800.0\n",
       "4  1.0  1820.0"
      ]
     },
     "execution_count": 381,
     "metadata": {},
     "output_type": "execute_result"
    }
   ],
   "source": [
    "X = data[:,0]\n",
    "X = np.vstack((np.ones((X.size, )), X)).T\n",
    "Y = data[:, 1].reshape(X[:,1].size, 1)\n",
    "# for visualisation of the reader\n",
    "a=pd.DataFrame(X)#Square feet area of house\n",
    "a.head()"
   ]
  },
  {
   "cell_type": "code",
   "execution_count": 382,
   "id": "9f0b6527-e9d7-41ae-8cce-cfc48e01c4ac",
   "metadata": {},
   "outputs": [
    {
     "data": {
      "text/html": [
       "<div>\n",
       "<style scoped>\n",
       "    .dataframe tbody tr th:only-of-type {\n",
       "        vertical-align: middle;\n",
       "    }\n",
       "\n",
       "    .dataframe tbody tr th {\n",
       "        vertical-align: top;\n",
       "    }\n",
       "\n",
       "    .dataframe thead th {\n",
       "        text-align: right;\n",
       "    }\n",
       "</style>\n",
       "<table border=\"1\" class=\"dataframe\">\n",
       "  <thead>\n",
       "    <tr style=\"text-align: right;\">\n",
       "      <th></th>\n",
       "      <th>0</th>\n",
       "    </tr>\n",
       "  </thead>\n",
       "  <tbody>\n",
       "    <tr>\n",
       "      <th>0</th>\n",
       "      <td>158900.0</td>\n",
       "    </tr>\n",
       "    <tr>\n",
       "      <th>1</th>\n",
       "      <td>169850.0</td>\n",
       "    </tr>\n",
       "    <tr>\n",
       "      <th>2</th>\n",
       "      <td>178950.0</td>\n",
       "    </tr>\n",
       "    <tr>\n",
       "      <th>3</th>\n",
       "      <td>178650.0</td>\n",
       "    </tr>\n",
       "    <tr>\n",
       "      <th>4</th>\n",
       "      <td>180000.0</td>\n",
       "    </tr>\n",
       "  </tbody>\n",
       "</table>\n",
       "</div>"
      ],
      "text/plain": [
       "          0\n",
       "0  158900.0\n",
       "1  169850.0\n",
       "2  178950.0\n",
       "3  178650.0\n",
       "4  180000.0"
      ]
     },
     "execution_count": 382,
     "metadata": {},
     "output_type": "execute_result"
    }
   ],
   "source": [
    "b=pd.DataFrame(Y)#Price of the house\n",
    "b.head()"
   ]
  },
  {
   "cell_type": "code",
   "execution_count": 378,
   "id": "06ef407a-3c65-41f0-aae0-6f3eb941fb7e",
   "metadata": {},
   "outputs": [
    {
     "data": {
      "text/plain": [
       "(45, 2)"
      ]
     },
     "execution_count": 378,
     "metadata": {},
     "output_type": "execute_result"
    }
   ],
   "source": [
    "X.shape"
   ]
  },
  {
   "cell_type": "code",
   "execution_count": 379,
   "id": "ff481741-df46-4e59-a191-7f89646ba381",
   "metadata": {},
   "outputs": [
    {
     "data": {
      "text/plain": [
       "<matplotlib.collections.PathCollection at 0x154a94d7490>"
      ]
     },
     "execution_count": 379,
     "metadata": {},
     "output_type": "execute_result"
    },
    {
     "data": {
      "image/png": "[encoded data removed]",
      "text/plain": [
       "<Figure size 432x288 with 1 Axes>"
      ]
     },
     "metadata": {
      "needs_background": "light"
     },
     "output_type": "display_data"
    }
   ],
   "source": [
    "plt.scatter(X[:, 1], Y)"
   ]
  },
  {
   "cell_type": "code",
   "execution_count": 367,
   "id": "90e939ec-c394-42c0-8ac4-e0f6c2135b7a",
   "metadata": {},
   "outputs": [],
   "source": [
    "def model(X, Y, learning_rate, iteration):\n",
    "    m = Y.size\n",
    "    theta = np.zeros((2, 1))\n",
    "    cost_list = []\n",
    "    for i in range(iteration):\n",
    "        y_pred = np.dot(X, theta)\n",
    "        cost = (1/(2*m))*np.sum(np.square(y_pred - Y))\n",
    "        d_theta = (1/m)*np.dot(X.T, y_pred - Y)\n",
    "        theta = theta - learning_rate*d_theta\n",
    "        cost_list.append(cost)\n",
    "    return theta, cost_list"
   ]
  },
  {
   "cell_type": "code",
   "execution_count": 295,
   "id": "4018405d-787c-42b0-8e0e-4403924697f8",
   "metadata": {},
   "outputs": [],
   "source": [
    "iteration = 100\n",
    "learning_rate = 0.00000005\n",
    "theta, cost_list = model(X, Y, learning_rate = learning_rate,\n",
    "iteration = iteration)"
   ]
  },
  {
   "cell_type": "code",
   "execution_count": 368,
   "id": "6529ada0-237f-464b-99a8-4c7403192679",
   "metadata": {},
   "outputs": [
    {
     "name": "stdout",
     "output_type": "stream",
     "text": [
      "Our model predicts the price of house with 1547 sq. ft. area as : $ 153759.0\n",
      "Our model predicts the price of house with 1896 sq. ft. area as : $ 188446.7\n",
      "Our model predicts the price of house with 1934 sq. ft. area as : $ 192223.59\n",
      "Our model predicts the price of house with 2800 sq. ft. area as : $ 278296.8\n",
      "Our model predicts the price of house with 3400 sq. ft. area as : $ 337931.81\n",
      "Our model predicts the price of house with 5000 sq. ft. area as : $ 496958.52\n"
     ]
    }
   ],
   "source": [
    "new_houses = np.array([[1, 1547], [1, 1896], [1, 1934], [1,\n",
    "2800], [1, 3400], [1, 5000]])\n",
    "for house in new_houses :\n",
    "    print(\"Our model predicts the price of house with\",house[1], \"sq. ft. area as : $\", round(np.dot(house, theta)[0],2))"
   ]
  },
  {
   "cell_type": "code",
   "execution_count": 369,
   "id": "41f931c6-61f0-4485-ac39-e92fcc8ea529",
   "metadata": {},
   "outputs": [
    {
     "data": {
      "text/plain": [
       "Text(0, 0.5, 'cost')"
      ]
     },
     "execution_count": 369,
     "metadata": {},
     "output_type": "execute_result"
    },
    {
     "data": {
      "image/png": "[encoded data removed]",
      "text/plain": [
       "<Figure size 432x288 with 1 Axes>"
      ]
     },
     "metadata": {
      "needs_background": "light"
     },
     "output_type": "display_data"
    }
   ],
   "source": [
    "rng = np.arange(0, iteration)\n",
    "plt.plot(cost_list, rng)\n",
    "plt.title(\"Cost function vs Iteration\")\n",
    "plt.xlabel(\"epoch\")\n",
    "plt.ylabel(\"cost\")"
   ]
  },
  {
   "cell_type": "code",
   "execution_count": 380,
   "id": "d17fbe4f-05f6-4ee8-9500-11b51f8059f5",
   "metadata": {},
   "outputs": [
    {
     "data": {
      "text/plain": [
       "Text(0, 0.5, 'Price')"
      ]
     },
     "execution_count": 380,
     "metadata": {},
     "output_type": "execute_result"
    },
    {
     "data": {
      "image/png": "[encoded data removed]",
      "text/plain": [
       "<Figure size 432x288 with 1 Axes>"
      ]
     },
     "metadata": {
      "needs_background": "light"
     },
     "output_type": "display_data"
    }
   ],
   "source": [
    "plt.scatter(X[:, 1], Y)\n",
    "x=np.array([1500,1700,1750,1800,1820,1920,1450,1590,1596,1623,1878,1658,1720,1985,2000,2100,2050,1990,1965,1970,2120,2200,2156,1269,1489,1785,1965,1948,2008,2079,2116,2230,\n",
    "2200,2220,2365,2325,2396,2489,2420,2398,2350,2375,2236,2347,2459])\n",
    "plt.plot(x,np.dot(X, theta))\n",
    "plt.title(\"Linear regression\")\n",
    "plt.xlabel(\"Area\")\n",
    "plt.ylabel(\"Price\")"
   ]
  },
  {
   "cell_type": "code",
   "execution_count": null,
   "id": "764359c1-6361-45c3-9ee7-84ed9c77a599",
   "metadata": {},
   "outputs": [],
   "source": []
  }
 ],
 "metadata": {
  "kernelspec": {
   "display_name": "Python 3",
   "language": "python",
   "name": "python3"
  },
  "language_info": {
   "codemirror_mode": {
    "name": "ipython",
    "version": 3
   },
   "file_extension": ".py",
   "mimetype": "text/x-python",
   "name": "python",
   "nbconvert_exporter": "python",
   "pygments_lexer": "ipython3",
   "version": "3.8.8"
  }
 },
 "nbformat": 4,
 "nbformat_minor": 5
}
