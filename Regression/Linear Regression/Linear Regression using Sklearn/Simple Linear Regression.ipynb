{
 "cells": [
  {
   "cell_type": "markdown",
   "id": "f55c27df-4580-409b-b519-5902fa49a353",
   "metadata": {},
   "source": [
    "# Simple Linear Regression"
   ]
  },
  {
   "cell_type": "markdown",
   "id": "4b778275-ac08-45a1-a060-2d2e0a84838a",
   "metadata": {},
   "source": [
    "### Importing libraries"
   ]
  },
  {
   "cell_type": "code",
   "execution_count": 2,
   "id": "d3b6c369-c985-4ef9-81fb-d0c7d6f889d4",
   "metadata": {},
   "outputs": [],
   "source": [
    "import numpy as np\n",
    "import pandas as pd\n",
    "import matplotlib.pyplot as plt"
   ]
  },
  {
   "cell_type": "markdown",
   "id": "5d289480-bb6b-4da6-ab3d-50e96d03b96c",
   "metadata": {},
   "source": [
    "### Importing Dataset"
   ]
  },
  {
   "cell_type": "code",
   "execution_count": 4,
   "id": "59789a0f-188f-47f1-87d3-91d4833215ac",
   "metadata": {
    "tags": []
   },
   "outputs": [],
   "source": [
    "dataset=pd.read_csv('Salary_Data.csv')"
   ]
  },
  {
   "cell_type": "code",
   "execution_count": 52,
   "id": "b671a7a7-8756-4234-9d3b-fe4187cafaf2",
   "metadata": {},
   "outputs": [],
   "source": [
    "x=dataset.iloc[:,: 1].values\n",
    "y=dataset.iloc[:,-1].values\n"
   ]
  },
  {
   "cell_type": "markdown",
   "id": "4a287a6e-467b-4964-a586-53b1b0fe0426",
   "metadata": {},
   "source": [
    "### Splitting the dataset into Training and Testing"
   ]
  },
  {
   "cell_type": "code",
   "execution_count": 27,
   "id": "9de12566-255e-4e4a-8f6b-74bdcfbb0be0",
   "metadata": {},
   "outputs": [],
   "source": [
    "from sklearn.model_selection import train_test_split\n",
    "x_train,x_test,y_train,y_test=train_test_split(x,y,test_size=0.3,random_state=1)"
   ]
  },
  {
   "cell_type": "markdown",
   "id": "65fdca9a-e30e-4e35-bf47-a02275ce8e9b",
   "metadata": {},
   "source": [
    "### Training the Model"
   ]
  },
  {
   "cell_type": "code",
   "execution_count": 35,
   "id": "59dc2305-5711-4372-bda5-2fee8d0f1de7",
   "metadata": {},
   "outputs": [
    {
     "data": {
      "text/plain": [
       "LinearRegression()"
      ]
     },
     "execution_count": 35,
     "metadata": {},
     "output_type": "execute_result"
    }
   ],
   "source": [
    "from sklearn.linear_model import LinearRegression\n",
    "regressor=LinearRegression()\n",
    "regressor.fit(x_train,y_train)"
   ]
  },
  {
   "cell_type": "markdown",
   "id": "ce71ac05-4c3b-441e-9e55-b3f6c481c389",
   "metadata": {},
   "source": [
    "### Predict The test result"
   ]
  },
  {
   "cell_type": "code",
   "execution_count": 34,
   "id": "f642d3b1-5490-475e-b9ae-4240f295304f",
   "metadata": {},
   "outputs": [],
   "source": [
    "y_pred=regressor.predict(x_test)"
   ]
  },
  {
   "cell_type": "markdown",
   "id": "b9795f3c-84b7-431f-8761-8ab0000ea2a7",
   "metadata": {},
   "source": [
    "### Visualising the Training set"
   ]
  },
  {
   "cell_type": "code",
   "execution_count": 42,
   "id": "104fd878-a39c-4fa4-ab68-e805b477474d",
   "metadata": {},
   "outputs": [
    {
     "data": {
      "image/png": "[encoded data removed]",
      "text/plain": [
       "<Figure size 432x288 with 1 Axes>"
      ]
     },
     "metadata": {
      "needs_background": "light"
     },
     "output_type": "display_data"
    }
   ],
   "source": [
    "plt.scatter(x_train, y_train,color='red',)\n",
    "plt.plot(x_train,regressor.predict(x_train))\n",
    "plt.title('Salary vs Experience [training]')\n",
    "plt.xlabel('exp')\n",
    "plt.ylabel('salary')\n",
    "plt.show()"
   ]
  },
  {
   "cell_type": "markdown",
   "id": "3cef87d3-d5aa-46cd-8359-b08395451043",
   "metadata": {},
   "source": [
    "### Visualising Test set"
   ]
  },
  {
   "cell_type": "code",
   "execution_count": 43,
   "id": "7dbce438-2101-4a67-9518-9d715cf23cd7",
   "metadata": {},
   "outputs": [
    {
     "data": {
      "image/png": "[encoded data removed]",
      "text/plain": [
       "<Figure size 432x288 with 1 Axes>"
      ]
     },
     "metadata": {
      "needs_background": "light"
     },
     "output_type": "display_data"
    }
   ],
   "source": [
    "plt.scatter(x_test, y_test,color='red',)\n",
    "plt.plot(x_train,regressor.predict(x_train))\n",
    "plt.title('Salary vs Experience [test]')\n",
    "plt.xlabel('exp')\n",
    "plt.ylabel('salary')\n",
    "plt.show()"
   ]
  },
  {
   "cell_type": "markdown",
   "id": "e508426a-550f-41a9-a9e2-a6510eb94a0c",
   "metadata": {},
   "source": [
    "### Making a single prediction (for example the salary of an employee with 12 years of experience)"
   ]
  },
  {
   "cell_type": "code",
   "execution_count": 44,
   "id": "2c324665-1c03-47df-b674-e1525a639dbe",
   "metadata": {},
   "outputs": [
    {
     "data": {
      "text/plain": [
       "array([136476.3808945])"
      ]
     },
     "execution_count": 44,
     "metadata": {},
     "output_type": "execute_result"
    }
   ],
   "source": [
    "regressor.predict([[12]])"
   ]
  },
  {
   "cell_type": "markdown",
   "id": "8e762e56-4746-4565-88ec-6eb722cc0b37",
   "metadata": {},
   "source": [
    "### Getting the final linear regression equation with the values of the coefficients"
   ]
  },
  {
   "cell_type": "code",
   "execution_count": 51,
   "id": "e01802e6-d033-494a-9a9f-ba2061527be5",
   "metadata": {},
   "outputs": [
    {
     "name": "stdout",
     "output_type": "stream",
     "text": [
      "[9202.23359825]\n",
      "26049.577715443353\n"
     ]
    }
   ],
   "source": [
    "print(regressor.coef_)\n",
    "print(regressor.intercept_)"
   ]
  },
  {
   "cell_type": "markdown",
   "id": "e10056cd-44f7-43e4-8bea-047a4d4f0057",
   "metadata": {},
   "source": [
    "### Therefore, the equation of our simple linear regression model is:\n",
    "#### $$\\textrm{Salary} = 9345.94 \\times \\textrm{YearsExperience} + 26816.19$$"
   ]
  },
  {
   "cell_type": "code",
   "execution_count": null,
   "id": "4e28db7f-03bf-4078-8ba1-5a91eda970bc",
   "metadata": {},
   "outputs": [],
   "source": []
  }
 ],
 "metadata": {
  "kernelspec": {
   "display_name": "Python 3",
   "language": "python",
   "name": "python3"
  },
  "language_info": {
   "codemirror_mode": {
    "name": "ipython",
    "version": 3
   },
   "file_extension": ".py",
   "mimetype": "text/x-python",
   "name": "python",
   "nbconvert_exporter": "python",
   "pygments_lexer": "ipython3",
   "version": "3.8.8"
  }
 },
 "nbformat": 4,
 "nbformat_minor": 5
}
