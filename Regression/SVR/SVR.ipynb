{
 "cells": [
  {
   "cell_type": "markdown",
   "id": "6977f70d-839b-4252-a54c-160461c9ae47",
   "metadata": {
    "tags": []
   },
   "source": [
    "# SVR"
   ]
  },
  {
   "cell_type": "markdown",
   "id": "a9322155-2d90-41df-b3f5-8edb94070720",
   "metadata": {},
   "source": [
    "## Importing libraries\n"
   ]
  },
  {
   "cell_type": "code",
   "execution_count": 58,
   "id": "d6340286-c5b9-494e-a91a-1d634cb92a06",
   "metadata": {},
   "outputs": [],
   "source": [
    "import numpy as np\n",
    "import pandas as pd\n",
    "import matplotlib.pyplot as plt"
   ]
  },
  {
   "cell_type": "markdown",
   "id": "adaea619-eaae-453d-a53a-d0f2bb8455a4",
   "metadata": {},
   "source": [
    "## Importing dataset"
   ]
  },
  {
   "cell_type": "code",
   "execution_count": 59,
   "id": "255f0e83-10c1-4210-859a-532ab4e186f4",
   "metadata": {},
   "outputs": [
    {
     "name": "stdout",
     "output_type": "stream",
     "text": [
      "            Position  Level   Salary\n",
      "0   Business Analyst      1    45000\n",
      "1  Junior Consultant      2    50000\n",
      "2  Senior Consultant      3    60000\n",
      "3            Manager      4    80000\n",
      "4    Country Manager      5   110000\n",
      "5     Region Manager      6   150000\n",
      "6            Partner      7   200000\n",
      "7     Senior Partner      8   300000\n",
      "8            C-level      9   500000\n",
      "9                CEO     10  1000000\n"
     ]
    }
   ],
   "source": [
    "dataset=pd.read_csv(\"Position_Salaries.csv\")\n",
    "X=dataset.iloc[:,1:-1].values\n",
    "y=dataset.iloc[:,2:].values\n",
    "print(dataset)"
   ]
  },
  {
   "cell_type": "markdown",
   "id": "8c67eeec-b6fa-4072-8964-242dd90aedec",
   "metadata": {},
   "source": [
    "## Feature scaling "
   ]
  },
  {
   "cell_type": "code",
   "execution_count": 60,
   "id": "56bee045-ea7f-47d5-bdde-95c6a8cc3b79",
   "metadata": {},
   "outputs": [],
   "source": [
    "from sklearn.preprocessing import StandardScaler\n",
    "sc=StandardScaler()#computes mean and sd for x only\n",
    "X=sc.fit_transform(X)#scaling x\n",
    "sc2=StandardScaler()#computes mean and sd for y as sc aldready calculated mean and sd of x we cant use that to compute scaling of y as mean and sd of x and y varies\n",
    "y=sc2.fit_transform(y)"
   ]
  },
  {
   "cell_type": "markdown",
   "id": "b0f86f81-9d83-4215-9286-fb755ce4dce2",
   "metadata": {},
   "source": [
    "## Training the SVR model"
   ]
  },
  {
   "cell_type": "code",
   "execution_count": 63,
   "id": "8caaeb5b-d0ec-4670-8d55-9a06ee481029",
   "metadata": {},
   "outputs": [
    {
     "data": {
      "text/plain": [
       "SVR()"
      ]
     },
     "execution_count": 63,
     "metadata": {},
     "output_type": "execute_result"
    }
   ],
   "source": [
    "from sklearn.svm import SVR\n",
    "regressor=SVR(kernel = 'rbf' )\n",
    "regressor.fit(X,y.ravel())"
   ]
  },
  {
   "cell_type": "markdown",
   "id": "f08797e8-5a23-4cd7-9ebb-9ef5e9e05196",
   "metadata": {},
   "source": [
    "## Prediction"
   ]
  },
  {
   "cell_type": "code",
   "execution_count": 55,
   "id": "a3e64228-a128-4e39-a9d2-d5a460f3c7fb",
   "metadata": {},
   "outputs": [
    {
     "data": {
      "text/plain": [
       "array([170370.0204065])"
      ]
     },
     "execution_count": 55,
     "metadata": {},
     "output_type": "execute_result"
    }
   ],
   "source": [
    "sc2.inverse_transform(regressor.predict(sc.transform([[6.5 ]])))"
   ]
  },
  {
   "cell_type": "markdown",
   "id": "ea378c46-8fe0-42fc-a0ce-6f3b40c686ce",
   "metadata": {},
   "source": [
    "## Plotting "
   ]
  },
  {
   "cell_type": "code",
   "execution_count": 79,
   "id": "ce562107-922d-4417-a80a-0d54ddbc11ed",
   "metadata": {},
   "outputs": [
    {
     "data": {
      "text/plain": [
       "[<matplotlib.lines.Line2D at 0x1b8b249ddf0>]"
      ]
     },
     "execution_count": 79,
     "metadata": {},
     "output_type": "execute_result"
    },
    {
     "data": {
      "image/png": "[encoded data removed]",
      "text/plain": [
       "<Figure size 432x288 with 1 Axes>"
      ]
     },
     "metadata": {
      "needs_background": "light"
     },
     "output_type": "display_data"
    }
   ],
   "source": [
    "plt.scatter(sc.inverse_transform(X),sc2.inverse_transform(y),color='violet')\n",
    "plt.plot(sc.inverse_transform(X),sc2.inverse_transform(regressor.predict((X))))"
   ]
  },
  {
   "cell_type": "markdown",
   "id": "156843fc-2552-4d7b-976c-3d892b38f894",
   "metadata": {},
   "source": [
    "### Refined Plotting (smoother curve)"
   ]
  },
  {
   "cell_type": "code",
   "execution_count": 81,
   "id": "fb88c42d-0061-4534-9d14-80a066cf4bdb",
   "metadata": {},
   "outputs": [
    {
     "data": {
      "image/png": "[encoded data removed]",
      "text/plain": [
       "<Figure size 432x288 with 1 Axes>"
      ]
     },
     "metadata": {
      "needs_background": "light"
     },
     "output_type": "display_data"
    }
   ],
   "source": [
    "X_grid = np.arange(min(sc.inverse_transform(X)), max(sc.inverse_transform(X)), 0.1)\n",
    "X_grid = X_grid.reshape((len(X_grid), 1))\n",
    "plt.scatter(sc.inverse_transform(X), sc2.inverse_transform(y), color = 'red')\n",
    "plt.plot(X_grid, sc2.inverse_transform(regressor.predict(sc.transform(X_grid))), color = 'blue')\n",
    "plt.title('Truth or Bluff (SVR)')\n",
    "plt.xlabel('Position level')\n",
    "plt.ylabel('Salary')\n",
    "plt.show()"
   ]
  },
  {
   "cell_type": "code",
   "execution_count": null,
   "id": "833774d4-1ee5-4004-a355-89253e370067",
   "metadata": {},
   "outputs": [],
   "source": []
  }
 ],
 "metadata": {
  "kernelspec": {
   "display_name": "Python 3",
   "language": "python",
   "name": "python3"
  },
  "language_info": {
   "codemirror_mode": {
    "name": "ipython",
    "version": 3
   },
   "file_extension": ".py",
   "mimetype": "text/x-python",
   "name": "python",
   "nbconvert_exporter": "python",
   "pygments_lexer": "ipython3",
   "version": "3.8.8"
  }
 },
 "nbformat": 4,
 "nbformat_minor": 5
}
